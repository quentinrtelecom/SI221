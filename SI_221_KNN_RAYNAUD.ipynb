{
 "cells": [
  {
   "cell_type": "markdown",
   "metadata": {},
   "source": [
    "# SI221 - TP K-nearest neighbors\n",
    "\n",
    "### Données\n",
    "\n",
    "Nous allons travailler sur des images de chiffres manuscrits (de 0 à 9), provenant du dataset MNIST. Ces images, de 28$\\times$28 pixels, sont présentées comme des vecteurs lignes d'entiers compris entre $0$ et $255$. On y associe des étiquettes, indiquant quel est le chiffre représenté sur l'image (ici, l'étiquette correspondant au chiffre '0' est '10'. "
   ]
  },
  {
   "cell_type": "code",
   "execution_count": 12,
   "metadata": {
    "tags": []
   },
   "outputs": [],
   "source": [
    "import numpy as np\n",
    "import scipy.io\n",
    "import matplotlib.pyplot as plt"
   ]
  },
  {
   "cell_type": "code",
   "execution_count": 13,
   "metadata": {
    "tags": []
   },
   "outputs": [
    {
     "name": "stderr",
     "output_type": "stream",
     "text": [
      "C:\\Users\\quent\\AppData\\Local\\Temp\\ipykernel_12880\\374685871.py:3: DeprecationWarning: `np.float` is a deprecated alias for the builtin `float`. To silence this warning, use `float` by itself. Doing this will not modify any behavior and is safe. If you specifically wanted the numpy scalar type, use `np.float64` here.\n",
      "Deprecated in NumPy 1.20; for more details and guidance: https://numpy.org/devdocs/release/1.20.0-notes.html#deprecations\n",
      "  train_data = scipy.io.loadmat('data_app.mat')['x'].astype(np.float)\n",
      "C:\\Users\\quent\\AppData\\Local\\Temp\\ipykernel_12880\\374685871.py:4: DeprecationWarning: `np.float` is a deprecated alias for the builtin `float`. To silence this warning, use `float` by itself. Doing this will not modify any behavior and is safe. If you specifically wanted the numpy scalar type, use `np.float64` here.\n",
      "Deprecated in NumPy 1.20; for more details and guidance: https://numpy.org/devdocs/release/1.20.0-notes.html#deprecations\n",
      "  test_data = scipy.io.loadmat('data_test.mat')['x'].astype(np.float)\n"
     ]
    }
   ],
   "source": [
    "# Careful, we need to convert the data to float - if we keep the encoding as 8-bit integer,\n",
    "# we will certainly have issues when applying numpy functions to the data \n",
    "train_data = scipy.io.loadmat('data_app.mat')['x'].astype(np.float)\n",
    "test_data = scipy.io.loadmat('data_test.mat')['x'].astype(np.float)"
   ]
  },
  {
   "cell_type": "code",
   "execution_count": 14,
   "metadata": {
    "tags": []
   },
   "outputs": [],
   "source": [
    "train_labels = scipy.io.loadmat('data_app.mat')['S'].reshape(-1)\n",
    "test_labels = scipy.io.loadmat('data_test.mat')['S'].reshape(-1)"
   ]
  },
  {
   "cell_type": "markdown",
   "metadata": {},
   "source": [
    "Quelle est la taille de l’ensemble d’entraînement et de l’ensemble de test ? Les exemples\n",
    "sont-ils équirépartis suivant les classes ? Affichez les premières images de l'ensemble d'entraînement ainsi que les étiquettes correspondantes. "
   ]
  },
  {
   "cell_type": "code",
   "execution_count": 15,
   "metadata": {
    "tags": []
   },
   "outputs": [
    {
     "name": "stdout",
     "output_type": "stream",
     "text": [
      "Taille de l'ensemble d'entraînement : (1000, 784)\n",
      "Taille de l'ensemble de test : (300, 784)\n",
      "Distribution des classes dans l'ensemble d'entraînement :\n",
      "{1: 116, 2: 99, 3: 93, 4: 105, 5: 92, 6: 94, 7: 117, 8: 87, 9: 100, 10: 97}\n",
      "Distribution des classes dans l'ensemble de test :\n",
      "{1: 38, 2: 28, 3: 28, 4: 38, 5: 24, 6: 25, 7: 34, 8: 31, 9: 32, 10: 22}\n"
     ]
    }
   ],
   "source": [
    "print(\"Taille de l'ensemble d'entraînement :\", train_data.shape)\n",
    "print(\"Taille de l'ensemble de test :\", test_data.shape)\n",
    "\n",
    "\n",
    "unique_train, counts_train = np.unique(train_labels, return_counts=True)\n",
    "print(\"Distribution des classes dans l'ensemble d'entraînement :\")\n",
    "print(dict(zip(unique_train, counts_train)))\n",
    "\n",
    "unique_test, counts_test = np.unique(test_labels, return_counts=True)\n",
    "print(\"Distribution des classes dans l'ensemble de test :\")\n",
    "print(dict(zip(unique_test, counts_test)))\n"
   ]
  },
  {
   "cell_type": "code",
   "execution_count": 17,
   "metadata": {},
   "outputs": [
    {
     "data": {
      "image/png": "[encoded data removed]",
      "text/plain": [
       "<Figure size 432x288 with 10 Axes>"
      ]
     },
     "metadata": {
      "needs_background": "light"
     },
     "output_type": "display_data"
    }
   ],
   "source": [
    "fig, axs = plt.subplots(2, 5)\n",
    "for i in range(10):\n",
    "    row = i // 5\n",
    "    col = i % 5\n",
    "    axs[row, col].imshow(train_data[i].reshape(28,28), cmap='gray')\n",
    "    axs[row, col].set_title(f\"Label : {train_labels[i]}\")\n",
    "    axs[row, col].axis('off')\n",
    "\n",
    "plt.show()\n"
   ]
  },
  {
   "cell_type": "markdown",
   "metadata": {},
   "source": [
    "Implémentez la méthode des $k$-plus proche voisins en prenant comme caractéristiques les valeurs des\n",
    "pixels. On donnera, pour différentes valeurs du paramètre k (k=1, 3, 4, 5):\n",
    "- Le taux d’erreur.\n",
    "- La matrice de confusion - La matrice de confusion est une matrice de taille $10\\times10$ dont l’élément d’indice (i,j) est le nombre de vecteurs de la classe i qui ont été affectés à la classe j par la méthode.\n",
    "- Visualisez quelques confusions entre caractères."
   ]
  },
  {
   "cell_type": "code",
   "execution_count": 24,
   "metadata": {
    "tags": []
   },
   "outputs": [],
   "source": [
    "k = 1\n",
    "\n",
    "def knn(train_data,train_labels,test_data,k):\n",
    "    predictions = np.zeros(test_data.shape[0], dtype=int)\n",
    "    for i in range(test_data.shape[0]):\n",
    "        distances = np.square(test_data[i] - train_data).sum(axis=1)\n",
    "        indices = np.argsort(distances)\n",
    "        labels = [train_labels[indice] for indice in indices[k:]]\n",
    "        counts = np.bincount(labels)\n",
    "        predictions[i] = np.argmax(counts)\n",
    "    return predictions"
   ]
  },
  {
   "cell_type": "code",
   "execution_count": 25,
   "metadata": {
    "tags": []
   },
   "outputs": [
    {
     "name": "stdout",
     "output_type": "stream",
     "text": [
      "k=1 | Accuracy=0.0100\n",
      "Confusion matrix:\n",
      "[[ 0  0  0  0  0  0  0  0  0  0]\n",
      " [ 0  0  0  0  0  0  0 38  0  0]\n",
      " [ 0  1  0  0  0  0  0 27  0  0]\n",
      " [ 0  0  0  0  0  0  0 28  0  0]\n",
      " [ 0  0  0  0  0  0  0 38  0  0]\n",
      " [ 0  0  0  0  0  0  0 24  0  0]\n",
      " [ 0  0  0  0  0  0  0 25  0  0]\n",
      " [ 0 31  0  0  0  0  0  3  0  0]\n",
      " [ 0  0  0  0  0  0  0 31  0  0]\n",
      " [ 0  1  0  0  0  0  0 31  0  0]]\n",
      "\n",
      "k=3 | Accuracy=0.0100\n",
      "Confusion matrix:\n",
      "[[ 0  0  0  0  0  0  0  0  0  0]\n",
      " [ 0  0  0  0  0  0  0 38  0  0]\n",
      " [ 0  1  0  0  0  0  0 27  0  0]\n",
      " [ 0  1  0  0  0  0  0 27  0  0]\n",
      " [ 0  1  0  0  0  0  0 37  0  0]\n",
      " [ 0  0  0  0  0  0  0 24  0  0]\n",
      " [ 0  0  0  0  0  0  0 25  0  0]\n",
      " [ 0 31  0  0  0  0  0  3  0  0]\n",
      " [ 0  1  0  0  0  0  0 30  0  0]\n",
      " [ 0  3  0  0  0  0  0 29  0  0]]\n",
      "\n",
      "k=4 | Accuracy=0.0133\n",
      "Confusion matrix:\n",
      "[[ 0  0  0  0  0  0  0  0  0  0]\n",
      " [ 0  0  0  0  0  0  0 38  0  0]\n",
      " [ 0  1  0  0  0  0  0 27  0  0]\n",
      " [ 0  1  0  0  0  0  0 27  0  0]\n",
      " [ 0  2  0  0  0  0  0 36  0  0]\n",
      " [ 0  0  0  0  0  0  0 24  0  0]\n",
      " [ 0  0  0  0  0  0  0 25  0  0]\n",
      " [ 0 30  0  0  0  0  0  4  0  0]\n",
      " [ 0  1  0  0  0  0  0 30  0  0]\n",
      " [ 0  3  0  0  0  0  0 29  0  0]]\n",
      "\n",
      "k=5 | Accuracy=0.0133\n",
      "Confusion matrix:\n",
      "[[ 0  0  0  0  0  0  0  0  0  0]\n",
      " [ 0  0  0  0  0  0  0 38  0  0]\n",
      " [ 0  1  0  0  0  0  0 27  0  0]\n",
      " [ 0  1  0  0  0  0  0 27  0  0]\n",
      " [ 0  2  0  0  0  0  0 36  0  0]\n",
      " [ 0  0  0  0  0  0  0 24  0  0]\n",
      " [ 0  0  0  0  0  0  0 25  0  0]\n",
      " [ 0 30  0  0  0  0  0  4  0  0]\n",
      " [ 0  1  0  0  0  0  0 30  0  0]\n",
      " [ 0  6  0  0  0  0  0 26  0  0]]\n",
      "\n"
     ]
    }
   ],
   "source": [
    "# Prédire les étiquettes de test pour k = 1, 3, 4, 5\n",
    "for k in [1, 3, 4, 5]:\n",
    "    predictions = knn(train_data, train_labels, test_data, k)\n",
    "    accuracy = np.mean(predictions == test_labels)\n",
    "    confusion_matrix = np.zeros((10, 10), dtype=int)\n",
    "    for i in range(10):\n",
    "        for j in range(10):\n",
    "            confusion_matrix[i, j] = np.sum((test_labels == i) & (predictions == j))\n",
    "    print(f\"k={k} | Accuracy={accuracy:.4f}\")\n",
    "    print(f\"Confusion matrix:\\n{confusion_matrix}\\n\")\n"
   ]
  },
  {
   "cell_type": "code",
   "execution_count": null,
   "metadata": {
    "tags": []
   },
   "outputs": [],
   "source": []
  },
  {
   "cell_type": "markdown",
   "metadata": {},
   "source": [
    "- Construisez des prototypes (au moins un par classe) à partir des images de l’ensemble d’apprentissage, et visualisez-les. Le prototype peut être par exemple la moyenne des exemples correspondants à chaque classe. \n",
    "- Classez les images de test en les comparant aux prototypes.\n",
    "- Comparez avec les résultats obtenus précedemment."
   ]
  },
  {
   "cell_type": "code",
   "execution_count": null,
   "metadata": {
    "tags": []
   },
   "outputs": [],
   "source": []
  },
  {
   "cell_type": "code",
   "execution_count": 42,
   "metadata": {
    "tags": []
   },
   "outputs": [
    {
     "data": {
      "image/png": "[encoded data removed]",
      "text/plain": [
       "<Figure size 432x288 with 10 Axes>"
      ]
     },
     "metadata": {
      "needs_background": "light"
     },
     "output_type": "display_data"
    },
    {
     "ename": "IndexError",
     "evalue": "index 10 is out of bounds for axis 0 with size 10",
     "output_type": "error",
     "traceback": [
      "\u001b[1;31m---------------------------------------------------------------------------\u001b[0m",
      "\u001b[1;31mIndexError\u001b[0m                                Traceback (most recent call last)",
      "Input \u001b[1;32mIn [42]\u001b[0m, in \u001b[0;36m<cell line: 29>\u001b[1;34m()\u001b[0m\n\u001b[0;32m     28\u001b[0m confusion_matrix \u001b[38;5;241m=\u001b[39m np\u001b[38;5;241m.\u001b[39mzeros((\u001b[38;5;241m10\u001b[39m, \u001b[38;5;241m10\u001b[39m))\n\u001b[0;32m     29\u001b[0m \u001b[38;5;28;01mfor\u001b[39;00m i \u001b[38;5;129;01min\u001b[39;00m \u001b[38;5;28mrange\u001b[39m(\u001b[38;5;241m1\u001b[39m,\u001b[38;5;28mlen\u001b[39m(test_labels)):\n\u001b[1;32m---> 30\u001b[0m     confusion_matrix[test_labels[i], \u001b[38;5;28mint\u001b[39m(predicted_labels[i])] \u001b[38;5;241m+\u001b[39m\u001b[38;5;241m=\u001b[39m \u001b[38;5;241m1\u001b[39m\n\u001b[0;32m     32\u001b[0m error_rate \u001b[38;5;241m=\u001b[39m \u001b[38;5;241m1\u001b[39m \u001b[38;5;241m-\u001b[39m np\u001b[38;5;241m.\u001b[39msum(np\u001b[38;5;241m.\u001b[39mdiag(confusion_matrix)) \u001b[38;5;241m/\u001b[39m np\u001b[38;5;241m.\u001b[39msum(confusion_matrix)\n\u001b[0;32m     33\u001b[0m \u001b[38;5;28mprint\u001b[39m(\u001b[38;5;124m'\u001b[39m\u001b[38;5;124mTaux d\u001b[39m\u001b[38;5;130;01m\\'\u001b[39;00m\u001b[38;5;124merreur : \u001b[39m\u001b[38;5;132;01m{:.2f}\u001b[39;00m\u001b[38;5;124m%\u001b[39m\u001b[38;5;124m'\u001b[39m\u001b[38;5;241m.\u001b[39mformat(error_rate \u001b[38;5;241m*\u001b[39m \u001b[38;5;241m100\u001b[39m))\n",
      "\u001b[1;31mIndexError\u001b[0m: index 10 is out of bounds for axis 0 with size 10"
     ]
    }
   ],
   "source": [
    "# Calcul des prototypes\n",
    "prototypes = np.zeros((10, 784))\n",
    "for i in range(10):\n",
    "    prototypes[i] = np.mean(train_data[train_labels == i], axis=0)\n",
    "\n",
    "\n",
    "fig, axs = plt.subplots(2, 5)\n",
    "for i in range(10):\n",
    "    ax = axs[i//5, i%5]\n",
    "    ax.imshow(prototypes[i].reshape(28,28), cmap='gray')\n",
    "    ax.set_title(str(i))\n",
    "    ax.axis('off')\n",
    "plt.show()\n",
    "\n",
    "\n",
    "predicted_labels = np.zeros(len(test_labels))\n",
    "for i in range(1,len(test_data)):\n",
    "    distances = np.linalg.norm(test_data[i] - prototypes, axis=1)\n",
    "    predicted_labels[i] = np.argmin(distances)\n",
    "\n",
    "\n",
    "confusion_matrix = np.zeros((10, 10))\n",
    "for i in range(1,len(test_labels)):\n",
    "    confusion_matrix[test_labels[i], int(predicted_labels[i])] += 1\n",
    "\n",
    "error_rate = 1 - np.sum(np.diag(confusion_matrix)) / np.sum(confusion_matrix)\n",
    "print('Taux d\\'erreur : {:.2f}%'.format(error_rate * 100))\n",
    "print('Matrice de confusion :\\n', confusion_matrix.astype(int))\n"
   ]
  },
  {
   "cell_type": "code",
   "execution_count": null,
   "metadata": {
    "tags": []
   },
   "outputs": [],
   "source": []
  },
  {
   "cell_type": "code",
   "execution_count": null,
   "metadata": {},
   "outputs": [],
   "source": []
  },
  {
   "cell_type": "code",
   "execution_count": null,
   "metadata": {},
   "outputs": [],
   "source": []
  }
 ],
 "metadata": {
  "kernelspec": {
   "display_name": "Python 3 (ipykernel)",
   "language": "python",
   "name": "python3"
  },
  "language_info": {
   "codemirror_mode": {
    "name": "ipython",
    "version": 3
   },
   "file_extension": ".py",
   "mimetype": "text/x-python",
   "name": "python",
   "nbconvert_exporter": "python",
   "pygments_lexer": "ipython3",
   "version": "3.9.7"
  }
 },
 "nbformat": 4,
 "nbformat_minor": 4
}
